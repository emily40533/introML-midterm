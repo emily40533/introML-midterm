{
 "cells": [
  {
   "cell_type": "code",
   "execution_count": null,
   "id": "f6ecf632",
   "metadata": {},
   "outputs": [],
   "source": [
    "109409004經濟三趙庭暄_1111機器學習概論期中作業\n",
    "    我選擇參加kaggle的House Prices - Advanced Regression Techniques競賽\n",
    "    \n",
    "    並獲得了5.14381的分數。在2023/4/10位於leaderbroad的第4346名\n",
    "    \n",
    "    https://www.kaggle.com/competitions/house-prices-advanced-regression-techniques/leaderboard#"
   ]
  },
  {
   "cell_type": "code",
   "execution_count": null,
   "id": "5c7d241e",
   "metadata": {},
   "outputs": [],
   "source": [
    "import pandas as pd\n",
    "import numpy as np\n",
    "import matplotlib.pyplot as plt\n",
    "import matplotlib as mpl\n",
    "import seaborn as sns\n",
    "import statsmodels.api as sm"
   ]
  },
  {
   "cell_type": "code",
   "execution_count": null,
   "id": "78d2e97e",
   "metadata": {},
   "outputs": [],
   "source": [
    "基本的import dataset\n",
    "我玩了一下neighborhood等等的幾個變數分析"
   ]
  },
  {
   "cell_type": "code",
   "execution_count": null,
   "id": "207a4a58",
   "metadata": {},
   "outputs": [],
   "source": [
    "#import dataset\n",
    "df = pd.read_csv(\"data/train.csv\")\n",
    "#observing dataset\n",
    "df.head(10)\n",
    "df.info()\n",
    "df.describe()\n",
    "df['Neighborhood'].value_counts()\n",
    "sns.distplot(df['SalePrice'])"
   ]
  },
  {
   "cell_type": "code",
   "execution_count": null,
   "id": "9f5aa989",
   "metadata": {},
   "outputs": [],
   "source": [
    "一開始我不曉得要使用甚麼方式來建構模型比較好，於是我先看看上次上課內容大概一開始都如何分析數據、進一步了解各項變數之間的關係。\n",
    "也隨意選擇兩或四個變數，看看他們的關係，並且在這個過程中慢慢摸索資料的各個特徵及相關變數都有些甚麼。\n",
    "我也上網搜尋找到幾個不一樣的分析方式，例如熱力圖就蠻有趣的。我也做了一些基本款，像是scatterplot及pairplot，還有correlation。\n",
    "雖然這個過程一開始乍看只是無頭蒼蠅的亂晃，隨意找幾個有興趣的分析方式，好像對整個作業並沒有甚麼幫助，但熱力圖及correlartion啟發了我。\n",
    "\n",
    "我原本在網路上看到熱力圖的時候覺得這會是個很酷很有幫助的表格，實際上畫出來之後他因為變數數距實在是太多了\n",
    "根本不曉得那個小小的格子代表的是誰跟誰，所以我決定排除更多項目"
   ]
  },
  {
   "cell_type": "code",
   "execution_count": null,
   "id": "ae400d28",
   "metadata": {},
   "outputs": [],
   "source": [
    "#使用scatterplot觀察兩變數的關係\n",
    "sns.scatterplot(x='GrLivArea', y='SalePrice', data=df)\n",
    "sns.scatterplot(x='TotalBsmtSF', y='SalePrice', data=df)\n",
    "sns.scatterplot(x='YearBuilt', y='SalePrice', data=df)\n",
    "\n",
    "#使用boxplot觀察兩變數的關係\n",
    "sns.boxplot(x='OverallQual', y='SalePrice', data=df)\n",
    "sns.boxplot(x='Neighborhood', y='SalePrice', data=df)\n",
    "\n",
    "#觀察correlation\n",
    "corr_matrix = df.corr()\n",
    "print(df.corr())\n",
    "\n",
    "#使用heatmap觀察所有變數的關係\n",
    "plt.figure(figsize=(12, 9))\n",
    "sns.heatmap(corr_matrix, cmap='coolwarm', annot=False, square=True)\n",
    "\n",
    "#使用pairplot觀察四變數的關係\n",
    "sns.pairplot(df, vars=[\"SalePrice\", \"OverallQual\", \"GrLivArea\", \"GarageCars\"])\n",
    "sns.pairplot(df)"
   ]
  },
  {
   "cell_type": "code",
   "execution_count": null,
   "id": "3931dcb9",
   "metadata": {},
   "outputs": [],
   "source": [
    "接下來就是修正數據，先從檢查各項目的missing values有多少開始"
   ]
  },
  {
   "cell_type": "code",
   "execution_count": null,
   "id": "76408d52",
   "metadata": {},
   "outputs": [],
   "source": [
    "#prepare to train model!\n",
    "#檢查missing values\n",
    "missingV = df.isnull().sum()\n",
    "print(\"Total missing values in the dataset: \", missingV.sum())\n",
    "print(\"\\nColumns with missing values:\\n\", missingV[missingV > 0])"
   ]
  },
  {
   "cell_type": "code",
   "execution_count": null,
   "id": "c5da6e39",
   "metadata": {},
   "outputs": [],
   "source": [
    "再來就是drop一些不需要、用不到的數據\n",
    "這裡也有運用到前面的bar圖來做確認\n",
    "以及填補只有缺漏一些些的項目\n",
    "\n",
    "這邊很麻煩的是有些項目不是數值，所以我使用眾數跟中位數分別填補\n",
    "後來仔細想想，覺得自己真的是太蠢了哈哈哈\n",
    "我就應該要先把每個項目都變成數值化，再來填補缺漏的啊"
   ]
  },
  {
   "cell_type": "code",
   "execution_count": null,
   "id": "4ff1fba3",
   "metadata": {},
   "outputs": [],
   "source": [
    "#確定missing values在哪個變數最多，然後丟掉他們\n",
    "missing = missingV[missingV > 0]\n",
    "missing.sort_values(inplace=True)\n",
    "missing.plot.bar()\n",
    "\n",
    "#根據bar圖看到這五項卻露太多了，drop他們\n",
    "df = df.drop(['PoolQC', 'MiscFeature', 'Alley', 'Fence', 'FireplaceQu'], axis=1)\n",
    "\n",
    "#Electrical只有一項缺漏\n",
    "df = df.dropna(subset=['Electrical'])\n",
    "\n",
    "#其餘的缺漏值fillna\n",
    "#考慮變數的資料型態及分佈狀況\n",
    "#若obj，則填入眾數mode；int，則填入中位數median\n",
    "df.loc[:, 'LotFrontage'] = df['LotFrontage'].fillna(df['LotFrontage'].median())\n",
    "df.loc[:, 'GarageType'] = df['GarageType'].fillna(df['GarageType'].mode()[0])\n",
    "df.loc[:, 'GarageYrBlt'] = df['GarageYrBlt'].fillna(df['GarageYrBlt'].median())\n",
    "df.loc[:, 'GarageFinish'] = df['GarageFinish'].fillna(df['GarageFinish'].mode()[0])\n",
    "df.loc[:, 'GarageQual'] = df['GarageQual'].fillna(df['GarageQual'].mode()[0])\n",
    "df.loc[:, 'GarageCond'] = df['GarageCond'].fillna(df['GarageCond'].mode()[0])\n",
    "df.loc[:, 'BsmtQual'] = df['BsmtQual'].fillna(df['BsmtQual'].mode()[0])\n",
    "df.loc[:, 'BsmtCond'] = df['BsmtCond'].fillna(df['BsmtCond'].mode()[0])\n",
    "df.loc[:, 'BsmtExposure'] = df['BsmtExposure'].fillna(df['BsmtExposure'].mode()[0])\n",
    "df.loc[:, 'BsmtFinType1'] = df['BsmtFinType1'].fillna(df['BsmtFinType1'].mode()[0])\n",
    "df.loc[:, 'BsmtFinType2'] = df['BsmtFinType2'].fillna(df['BsmtFinType2'].mode()[0])\n",
    "df.loc[:, 'MasVnrType'] = df['MasVnrType'].fillna(df['MasVnrType'].mode()[0])\n",
    "df.loc[:, 'MasVnrArea'] = df['MasVnrArea'].fillna(df['MasVnrArea'].median())\n",
    "df.info()\n",
    "id_nums = df.loc[:, 'Id']\n",
    "print(id_nums)"
   ]
  },
  {
   "cell_type": "code",
   "execution_count": null,
   "id": "93d05344",
   "metadata": {},
   "outputs": [],
   "source": [
    "該數據化的項目都數據化之後，做到這裡的時候也差不多要來準備決定自己的模型要長甚麼樣子了\n",
    "數據化的時候，真心覺得現在的項目太多了，資訊量太雜亂\n",
    "加上這個題目又很多項目其實都是同一個東西，卻被分成好幾個項目，例如地下室空間坪數、地上的空間坪數之類的\n",
    "我個人覺得這些項目根本不用分那麼細吧，分析的時候很啊雜\n",
    "\n",
    "這時我想到前面使用過相關係數0.8，就想說乾脆暴力一點，只留下相關係數超高的項目好了哈哈\n",
    "就決定drop掉所有相關係數低於0.8的項目"
   ]
  },
  {
   "cell_type": "code",
   "execution_count": null,
   "id": "f49f603d",
   "metadata": {},
   "outputs": [],
   "source": [
    "#變數都數值化\n",
    "#把要轉換的列提取出来並型成列表傳入函數中\n",
    "cols = ['MSZoning', 'LotFrontage', 'Street', 'LotShape', 'LandContour', 'Utilities', 'LotConfig', 'LandSlope', 'Neighborhood', 'Condition1', 'Condition2', 'BldgType', 'HouseStyle', 'SaleCondition']\n",
    "df[cols] = df[cols].apply(lambda x: pd.factorize(x)[0])\n",
    "df.info()\n",
    "\n",
    "#prepare to train model!\n",
    "#所有變數\n",
    "var_names = df.columns.tolist()\n",
    "print(var_names)\n",
    "# 找出相關性大於 0.8 的變數\n",
    "corr_matrix = df.corr()\n",
    "high_corr_vars = []\n",
    "for col in corr_matrix.columns:\n",
    "    high_corr_cols = corr_matrix[corr_matrix[col] > 0.8].index.tolist()\n",
    "    for high_corr_col in high_corr_cols:\n",
    "        if high_corr_col != col and high_corr_col not in high_corr_vars:\n",
    "            high_corr_vars.append(high_corr_col)\n",
    "print(high_corr_vars)\n",
    "\n",
    "#這些大於0.8：['1stFlrSF', 'TotalBsmtSF', 'TotRmsAbvGrd', 'GrLivArea', 'GarageArea', 'GarageCars']\n",
    "X = df[['1stFlrSF', 'TotalBsmtSF', 'TotRmsAbvGrd', 'GrLivArea', 'GarageArea', 'GarageCars']]\n",
    "#提出價格\n",
    "y = df['SalePrice']\n",
    "#重新命名變數就可以保留原有數據庫"
   ]
  },
  {
   "cell_type": "code",
   "execution_count": null,
   "id": "c48c11dd",
   "metadata": {},
   "outputs": [],
   "source": [
    "再來就引入linear regression的模型開始跑"
   ]
  },
  {
   "cell_type": "code",
   "execution_count": null,
   "id": "172c8319",
   "metadata": {},
   "outputs": [],
   "source": [
    "from sklearn.model_selection import train_test_split\n",
    "X_train, X_test, y_train, y_test = train_test_split(X, y, test_size=0.3, random_state=54)\n",
    "\n",
    "#using linear regression model & train\n",
    "from sklearn.linear_model import LinearRegression\n",
    "reg = LinearRegression()\n",
    "reg.fit(X_train, y_train)\n",
    "\n",
    "#use model\n",
    "predictions = reg.predict(X_test)\n",
    "predictions\n",
    "y_test"
   ]
  },
  {
   "cell_type": "code",
   "execution_count": null,
   "id": "70df9674",
   "metadata": {},
   "outputs": [],
   "source": [
    "#evaluate model\n",
    "from sklearn.metrics import r2_score\n",
    "r2_score(y_test, predictions)\n",
    "\n",
    "mpl.pyplot.scatter(y_test, predictions, color='blue', alpha=0.1)\n",
    "\n",
    "import joblib\n",
    "joblib.dump(reg, 'house-20230410.pkl', compress=3)"
   ]
  },
  {
   "cell_type": "code",
   "execution_count": null,
   "id": "606c1809",
   "metadata": {},
   "outputs": [],
   "source": [
    "以上是app.py的檔案\n",
    "以下是for_submission.py的檔案，中間使用了joblib做模型的打包"
   ]
  },
  {
   "cell_type": "code",
   "execution_count": null,
   "id": "a9d8ec64",
   "metadata": {},
   "outputs": [],
   "source": [
    "import joblib\n",
    "model_pretrained = joblib.load('house-20230410.pkl')\n",
    "import pandas as pd\n",
    "df_test = pd.read_csv(\"data/test.csv\")\n",
    "cols_to_keep = ['Id','1stFlrSF', 'TotalBsmtSF', 'TotRmsAbvGrd', 'GrLivArea', 'GarageArea', 'GarageCars']\n",
    "df_test.drop(columns=[col for col in df_test.columns if col not in cols_to_keep], inplace=True)\n",
    "df_test.info()"
   ]
  },
  {
   "cell_type": "code",
   "execution_count": null,
   "id": "4568fcd2",
   "metadata": {},
   "outputs": [],
   "source": [
    "進入for_submisson的檔案之後\n",
    "我在老師的提醒下才知道還要把test的數據整理乾淨哈哈，感謝老師\n",
    "\n",
    "但因為建構模型時我的想法很直接單純，就是刪去所有相關係數0.8以下的項目，所以整理數據的時候非常順利\n",
    "就是該填補數據的填補數據、該drop的也不猶豫全丟掉(有種段捨離的感覺，把一堆不會常用的東西丟掉的感覺，超讚的)\n",
    "\n",
    "唯一遇到的問題只有\n",
    "start_id = df_test['Id'].min()\n",
    "end_id = df_test['Id'].max()\n",
    "print(start_id, end_id)\n",
    "forSubmissionDF['Id'] = range(start_id, end_id+1)\n",
    "這段\n",
    "\n",
    "我一直找不到id的range，其實從df.info來看應該我的數字是正確的？但不知為何一直運行不了\n",
    "最後只好套其他解法，多浪費幾條，迂迴但順利的完成這部份的程式碼"
   ]
  },
  {
   "cell_type": "code",
   "execution_count": null,
   "id": "92b9bb3e",
   "metadata": {},
   "outputs": [],
   "source": [
    "df_test.loc[:, 'TotalBsmtSF'] = df_test['TotalBsmtSF'].fillna(df_test['TotalBsmtSF'].median())\n",
    "df_test.loc[:, 'GarageCars'] = df_test['GarageCars'].fillna(df_test['GarageCars'].median())\n",
    "df_test.loc[:, 'GarageArea'] = df_test['GarageArea'].fillna(df_test['GarageArea'].median())\n",
    "\n",
    "prediction2 = model_pretrained.predict(df_test)\n",
    "prediction2\n",
    "\n",
    "forSubmissionDF = pd.DataFrame(columns=['Id', 'SalePrice'])\n",
    "forSubmissionDF \n",
    "start_id = df_test['Id'].min()\n",
    "end_id = df_test['Id'].max()\n",
    "print(start_id, end_id)\n",
    "forSubmissionDF['Id'] = range(start_id, end_id+1)\n",
    "forSubmissionDF['SalePrice']=prediction2\n",
    "\n",
    "forSubmissionDF.to_csv('HouseSubmission_20230410.csv', index=False)"
   ]
  }
 ],
 "metadata": {
  "kernelspec": {
   "display_name": "Python 3 (ipykernel)",
   "language": "python",
   "name": "python3"
  },
  "language_info": {
   "codemirror_mode": {
    "name": "ipython",
    "version": 3
   },
   "file_extension": ".py",
   "mimetype": "text/x-python",
   "name": "python",
   "nbconvert_exporter": "python",
   "pygments_lexer": "ipython3",
   "version": "3.9.13"
  }
 },
 "nbformat": 4,
 "nbformat_minor": 5
}
